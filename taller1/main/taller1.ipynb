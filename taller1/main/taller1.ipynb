{
 "cells": [
  {
   "attachments": {},
   "cell_type": "markdown",
   "metadata": {},
   "source": [
    "# **Métodos Computacionales**\n",
    " **Taller 1**\n",
    " \n",
    " **Estudiantes**: Juan C. Rojas V. (202214037) & Esteban Parra C. (????????)"
   ]
  },
  {
   "attachments": {},
   "cell_type": "markdown",
   "metadata": {},
   "source": [
    "## **Ejercicio 2.01.1:**\n",
    "Escriba una función que calcule el factorial de $n$, con $n \\in \\mathbb{N}$. \n",
    "\n",
    "$$n! = n(n − 1)(n − 2) \\dots 1 $$\n",
    "Calcule los primeros 20 números factoriales."
   ]
  },
  {
   "cell_type": "code",
   "execution_count": 1,
   "metadata": {},
   "outputs": [],
   "source": [
    "def factorial(n:int) -> int:\n",
    "    \"\"\"\n",
    "    La función recibe como parámetro un número entero n y devuelve un número entero, \n",
    "    siendo este el factorial del número ingresado.\n",
    "\n",
    "    Args:\n",
    "        n (int): Número entero al que se quiere operar.\n",
    "\n",
    "    Returns:\n",
    "        int: Factorial del número ingresado.\n",
    "    \"\"\"\n",
    "    fact = n\n",
    "    while n > 1:\n",
    "        fact *= n-1\n",
    "        n -= 1\n",
    "        \n",
    "    return fact\n",
    "\n",
    "        "
   ]
  },
  {
   "cell_type": "code",
   "execution_count": 2,
   "metadata": {},
   "outputs": [
    {
     "name": "stdout",
     "output_type": "stream",
     "text": [
      "El factorial de 1 es 1\n",
      "El factorial de 2 es 2\n",
      "El factorial de 3 es 6\n",
      "El factorial de 4 es 24\n",
      "El factorial de 5 es 120\n",
      "El factorial de 6 es 720\n",
      "El factorial de 7 es 5040\n",
      "El factorial de 8 es 40320\n",
      "El factorial de 9 es 362880\n",
      "El factorial de 10 es 3628800\n",
      "El factorial de 11 es 39916800\n",
      "El factorial de 12 es 479001600\n",
      "El factorial de 13 es 6227020800\n",
      "El factorial de 14 es 87178291200\n",
      "El factorial de 15 es 1307674368000\n",
      "El factorial de 16 es 20922789888000\n",
      "El factorial de 17 es 355687428096000\n",
      "El factorial de 18 es 6402373705728000\n",
      "El factorial de 19 es 121645100408832000\n",
      "El factorial de 20 es 2432902008176640000\n"
     ]
    }
   ],
   "source": [
    "#Requerimiento de los primero 20 números factoriales.\n",
    "\n",
    "for i in range(1,21):\n",
    "    print(\"El factorial de %s es %s\"%(i,factorial(i)))"
   ]
  },
  {
   "attachments": {},
   "cell_type": "markdown",
   "metadata": {},
   "source": [
    "## **Ejercicio 2.02: Máximos**\n",
    "\n",
    "Descargar los datos de: https://raw.githubusercontent.com/asegura4488/Database/main/MetodosComputacionalesReforma/EstrellaEspectro.txt Y diseñar un algoritmo\n",
    "para encontrar todos los máximos locales en esta serie de datos."
   ]
  }
 ],
 "metadata": {
  "kernelspec": {
   "display_name": "Python 3",
   "language": "python",
   "name": "python3"
  },
  "language_info": {
   "codemirror_mode": {
    "name": "ipython",
    "version": 3
   },
   "file_extension": ".py",
   "mimetype": "text/x-python",
   "name": "python",
   "nbconvert_exporter": "python",
   "pygments_lexer": "ipython3",
   "version": "3.11.1 (tags/v3.11.1:a7a450f, Dec  6 2022, 19:58:39) [MSC v.1934 64 bit (AMD64)]"
  },
  "orig_nbformat": 4,
  "vscode": {
   "interpreter": {
    "hash": "c9f69d3aee71be54776a55aa2ba674df24312f89c0df54b2489c83ea19829380"
   }
  }
 },
 "nbformat": 4,
 "nbformat_minor": 2
}
